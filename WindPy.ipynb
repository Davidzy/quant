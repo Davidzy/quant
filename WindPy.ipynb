{
 "cells": [
  {
   "cell_type": "markdown",
   "metadata": {},
   "source": [
    "# Wind量化api for python"
   ]
  },
  {
   "cell_type": "markdown",
   "metadata": {},
   "source": [
    "1. from WindPy import *：装载WindPy包\n",
    "2. w.start：启动WindPy\n",
    "3. w.stop：停止WindPy\n",
    "4. w.isconnected：判断是否已经登录\n",
    "5. w.cancelRequest：取消订阅\n",
    "6. w.wsd：获取历史序列数据\n",
    "7. w.wsi：获取分钟数据\n",
    "8. w.wst：获取日内tick级别数据\n",
    "9. w.wss：获历史截面数据\n",
    "10. w.wsq：获取和订阅实时行情数据\n",
    "11. w.wset：获取板块、指数等成分数据\n",
    "12. w.weqs：获取条件选股结果\n",
    "13. w.wpf：获取资产管理、组合管理数据"
   ]
  },
  {
   "cell_type": "code",
   "execution_count": 20,
   "metadata": {
    "collapsed": true
   },
   "outputs": [],
   "source": [
    "import pandas as pd\n",
    "import datetime"
   ]
  },
  {
   "cell_type": "code",
   "execution_count": 8,
   "metadata": {
    "collapsed": false
   },
   "outputs": [
    {
     "name": "stdout",
     "output_type": "stream",
     "text": [
      "Welcome to use Wind Quant API for Python (WindPy)!\n",
      "You can use w.menu to help yourself to create commands(WSD,WSS,WST,WSI,WSQ,...)!\n",
      "\n",
      "COPYRIGHT (C) 2016 WIND HONGHUI INFORMATION & TECHKNOLEWDGE CO., LTD. ALL RIGHTS RESERVED.\n",
      "IN NO CIRCUMSTANCE SHALL WIND BE RESPONSIBLE FOR ANY DAMAGES OR LOSSES CAUSED BY USING WIND QUANT API FOR Python.\n"
     ]
    },
    {
     "data": {
      "text/plain": [
       ".ErrorCode=0\n",
       ".Data=[OK!]"
      ]
     },
     "execution_count": 8,
     "metadata": {},
     "output_type": "execute_result"
    }
   ],
   "source": [
    "from WindPy import *\n",
    "w.start() # 启动windpy连接"
   ]
  },
  {
   "cell_type": "code",
   "execution_count": 9,
   "metadata": {
    "collapsed": false
   },
   "outputs": [
    {
     "data": {
      "text/plain": [
       "True"
      ]
     },
     "execution_count": 9,
     "metadata": {},
     "output_type": "execute_result"
    }
   ],
   "source": [
    "w.isconnected() # 检验连接是否成功"
   ]
  },
  {
   "cell_type": "markdown",
   "metadata": {},
   "source": [
    "## 获取全部A股上市公司名称代码"
   ]
  },
  {
   "cell_type": "code",
   "execution_count": 10,
   "metadata": {
    "collapsed": true
   },
   "outputs": [],
   "source": [
    "stocks = w.wset(\"sectorconstituent\",\"date=2016-11-20;sectorid=a001010100000000\")"
   ]
  },
  {
   "cell_type": "code",
   "execution_count": 11,
   "metadata": {
    "collapsed": false
   },
   "outputs": [
    {
     "data": {
      "text/plain": [
       "['date', 'wind_code', 'sec_name']"
      ]
     },
     "execution_count": 11,
     "metadata": {},
     "output_type": "execute_result"
    }
   ],
   "source": [
    "stocks.Fields"
   ]
  },
  {
   "cell_type": "code",
   "execution_count": 16,
   "metadata": {
    "collapsed": false
   },
   "outputs": [
    {
     "data": {
      "text/html": [
       "<div>\n",
       "<table border=\"1\" class=\"dataframe\">\n",
       "  <thead>\n",
       "    <tr style=\"text-align: right;\">\n",
       "      <th></th>\n",
       "      <th>uptodate</th>\n",
       "      <th>wind_code</th>\n",
       "      <th>name</th>\n",
       "    </tr>\n",
       "  </thead>\n",
       "  <tbody>\n",
       "    <tr>\n",
       "      <th>0</th>\n",
       "      <td>2016-11-20 00:00:00.005000</td>\n",
       "      <td>000001.SZ</td>\n",
       "      <td>平安银行</td>\n",
       "    </tr>\n",
       "    <tr>\n",
       "      <th>1</th>\n",
       "      <td>2016-11-20 00:00:00.005000</td>\n",
       "      <td>000002.SZ</td>\n",
       "      <td>万科A</td>\n",
       "    </tr>\n",
       "    <tr>\n",
       "      <th>2</th>\n",
       "      <td>2016-11-20 00:00:00.005000</td>\n",
       "      <td>000004.SZ</td>\n",
       "      <td>国农科技</td>\n",
       "    </tr>\n",
       "    <tr>\n",
       "      <th>3</th>\n",
       "      <td>2016-11-20 00:00:00.005000</td>\n",
       "      <td>000005.SZ</td>\n",
       "      <td>世纪星源</td>\n",
       "    </tr>\n",
       "    <tr>\n",
       "      <th>4</th>\n",
       "      <td>2016-11-20 00:00:00.005000</td>\n",
       "      <td>000006.SZ</td>\n",
       "      <td>深振业A</td>\n",
       "    </tr>\n",
       "  </tbody>\n",
       "</table>\n",
       "</div>"
      ],
      "text/plain": [
       "                     uptodate  wind_code  name\n",
       "0  2016-11-20 00:00:00.005000  000001.SZ  平安银行\n",
       "1  2016-11-20 00:00:00.005000  000002.SZ   万科A\n",
       "2  2016-11-20 00:00:00.005000  000004.SZ  国农科技\n",
       "3  2016-11-20 00:00:00.005000  000005.SZ  世纪星源\n",
       "4  2016-11-20 00:00:00.005000  000006.SZ  深振业A"
      ]
     },
     "execution_count": 16,
     "metadata": {},
     "output_type": "execute_result"
    }
   ],
   "source": [
    "df = pd.DataFrame(stocks.Data, index=['uptodate', 'wind_code', 'name'])\n",
    "df = df.T\n",
    "df.head()"
   ]
  },
  {
   "cell_type": "markdown",
   "metadata": {},
   "source": [
    "## 获取单个股票的历史价格信息，将其写入mongodb"
   ]
  },
  {
   "cell_type": "code",
   "execution_count": 25,
   "metadata": {
    "collapsed": false
   },
   "outputs": [
    {
     "data": {
      "text/plain": [
       ".ErrorCode=0\n",
       ".Codes=[000002.SZ]\n",
       ".Fields=[OPEN,HIGH,LOW,CLOSE,VOLUME,AMT,TURN,TRADE_STATUS]\n",
       ".Times=[19910129,19910130,19910131,19910201,19910204,19910205,19910206,19910207,19910208,19910211,...]\n",
       ".Data=[[14.58,14.51,14.51,None,14.66,14.73,14.8,14.87,14.94,15.09,...],[14.58,14.51,14.51,None,14.66,14.73,14.8,14.87,14.94,15.09,...],[14.58,14.51,14.51,None,14.66,14.73,14.8,14.87,14.94,15.09,...],[14.58,14.51,14.51,14.51,14.66,14.73,14.8,14.87,14.94,15.09,...],[300.0,1700.0,None,None,5600.0,2900.0,2900.0,4800.0,6600.0,3300.0,...],[22000.0,123000.0,None,None,410000.0,213000.0,215000.0,357000.0,493000.0,249000.0,...],[0.0010714285714285715,0.006071428571428571,None,None,0.02,0.010357142857142856,0.010357142857142856,0.017142857142857144,0.023571428571428573,0.011785714285714287,...],[交易,交易,交易,交易,交易,交易,交易,交易,交易,交易,...]]"
      ]
     },
     "execution_count": 25,
     "metadata": {},
     "output_type": "execute_result"
    }
   ],
   "source": [
    "today = datetime.datetime.today() # 获取当天的日期\n",
    "code = '000002.SZ'\n",
    "_ipo_date = w.wss(code, \"ipo_date\") # 查询ipo日期\n",
    "ipo_date = _ipo_date.Data[0][0]\n",
    "price = w.wsd(code, \"open,high,low,close,volume,amt,turn,trade_status\", ipo_date, today)\n",
    "price # price的数据结构"
   ]
  },
  {
   "cell_type": "code",
   "execution_count": 29,
   "metadata": {
    "collapsed": false
   },
   "outputs": [
    {
     "data": {
      "text/html": [
       "<div>\n",
       "<table border=\"1\" class=\"dataframe\">\n",
       "  <thead>\n",
       "    <tr style=\"text-align: right;\">\n",
       "      <th></th>\n",
       "      <th>OPEN</th>\n",
       "      <th>HIGH</th>\n",
       "      <th>LOW</th>\n",
       "      <th>CLOSE</th>\n",
       "      <th>VOLUME</th>\n",
       "      <th>AMT</th>\n",
       "      <th>TURN</th>\n",
       "      <th>TRADE_STATUS</th>\n",
       "    </tr>\n",
       "  </thead>\n",
       "  <tbody>\n",
       "    <tr>\n",
       "      <th>2016-11-07 00:00:00.005</th>\n",
       "      <td>24.47</td>\n",
       "      <td>24.58</td>\n",
       "      <td>24.03</td>\n",
       "      <td>24.16</td>\n",
       "      <td>4.19894e+07</td>\n",
       "      <td>1.0162e+09</td>\n",
       "      <td>0.432518</td>\n",
       "      <td>交易</td>\n",
       "    </tr>\n",
       "    <tr>\n",
       "      <th>2016-11-08 00:00:00.005</th>\n",
       "      <td>24.16</td>\n",
       "      <td>24.49</td>\n",
       "      <td>24.15</td>\n",
       "      <td>24.22</td>\n",
       "      <td>2.90066e+07</td>\n",
       "      <td>7.03589e+08</td>\n",
       "      <td>0.298787</td>\n",
       "      <td>交易</td>\n",
       "    </tr>\n",
       "    <tr>\n",
       "      <th>2016-11-09 00:00:00.005</th>\n",
       "      <td>24.43</td>\n",
       "      <td>26.64</td>\n",
       "      <td>24.35</td>\n",
       "      <td>26.3</td>\n",
       "      <td>4.01716e+08</td>\n",
       "      <td>1.04845e+10</td>\n",
       "      <td>4.13794</td>\n",
       "      <td>交易</td>\n",
       "    </tr>\n",
       "    <tr>\n",
       "      <th>2016-11-10 00:00:00.005</th>\n",
       "      <td>26</td>\n",
       "      <td>28.28</td>\n",
       "      <td>25.58</td>\n",
       "      <td>26.56</td>\n",
       "      <td>2.4303e+08</td>\n",
       "      <td>6.61105e+09</td>\n",
       "      <td>2.50337</td>\n",
       "      <td>交易</td>\n",
       "    </tr>\n",
       "    <tr>\n",
       "      <th>2016-11-11 00:00:00.005</th>\n",
       "      <td>26.15</td>\n",
       "      <td>26.77</td>\n",
       "      <td>25.7</td>\n",
       "      <td>25.99</td>\n",
       "      <td>9.58463e+07</td>\n",
       "      <td>2.49571e+09</td>\n",
       "      <td>0.987281</td>\n",
       "      <td>交易</td>\n",
       "    </tr>\n",
       "    <tr>\n",
       "      <th>2016-11-14 00:00:00.005</th>\n",
       "      <td>26.23</td>\n",
       "      <td>26.25</td>\n",
       "      <td>25.31</td>\n",
       "      <td>25.7</td>\n",
       "      <td>8.7878e+07</td>\n",
       "      <td>2.25479e+09</td>\n",
       "      <td>0.905202</td>\n",
       "      <td>交易</td>\n",
       "    </tr>\n",
       "    <tr>\n",
       "      <th>2016-11-15 00:00:00.005</th>\n",
       "      <td>25.6</td>\n",
       "      <td>27.8</td>\n",
       "      <td>25.46</td>\n",
       "      <td>26.94</td>\n",
       "      <td>1.48589e+08</td>\n",
       "      <td>3.96589e+09</td>\n",
       "      <td>1.53056</td>\n",
       "      <td>交易</td>\n",
       "    </tr>\n",
       "    <tr>\n",
       "      <th>2016-11-16 00:00:00.005</th>\n",
       "      <td>26.64</td>\n",
       "      <td>27.22</td>\n",
       "      <td>26.09</td>\n",
       "      <td>26.68</td>\n",
       "      <td>8.27117e+07</td>\n",
       "      <td>2.20453e+09</td>\n",
       "      <td>0.851986</td>\n",
       "      <td>交易</td>\n",
       "    </tr>\n",
       "    <tr>\n",
       "      <th>2016-11-17 00:00:00.005</th>\n",
       "      <td>26.62</td>\n",
       "      <td>27</td>\n",
       "      <td>26.31</td>\n",
       "      <td>27</td>\n",
       "      <td>5.95134e+07</td>\n",
       "      <td>1.59148e+09</td>\n",
       "      <td>0.613028</td>\n",
       "      <td>交易</td>\n",
       "    </tr>\n",
       "    <tr>\n",
       "      <th>2016-11-18 00:00:00.005</th>\n",
       "      <td>27.8</td>\n",
       "      <td>29</td>\n",
       "      <td>27.51</td>\n",
       "      <td>27.72</td>\n",
       "      <td>1.50316e+08</td>\n",
       "      <td>4.25238e+09</td>\n",
       "      <td>1.54836</td>\n",
       "      <td>交易</td>\n",
       "    </tr>\n",
       "  </tbody>\n",
       "</table>\n",
       "</div>"
      ],
      "text/plain": [
       "                          OPEN   HIGH    LOW  CLOSE       VOLUME          AMT  \\\n",
       "2016-11-07 00:00:00.005  24.47  24.58  24.03  24.16  4.19894e+07   1.0162e+09   \n",
       "2016-11-08 00:00:00.005  24.16  24.49  24.15  24.22  2.90066e+07  7.03589e+08   \n",
       "2016-11-09 00:00:00.005  24.43  26.64  24.35   26.3  4.01716e+08  1.04845e+10   \n",
       "2016-11-10 00:00:00.005     26  28.28  25.58  26.56   2.4303e+08  6.61105e+09   \n",
       "2016-11-11 00:00:00.005  26.15  26.77   25.7  25.99  9.58463e+07  2.49571e+09   \n",
       "2016-11-14 00:00:00.005  26.23  26.25  25.31   25.7   8.7878e+07  2.25479e+09   \n",
       "2016-11-15 00:00:00.005   25.6   27.8  25.46  26.94  1.48589e+08  3.96589e+09   \n",
       "2016-11-16 00:00:00.005  26.64  27.22  26.09  26.68  8.27117e+07  2.20453e+09   \n",
       "2016-11-17 00:00:00.005  26.62     27  26.31     27  5.95134e+07  1.59148e+09   \n",
       "2016-11-18 00:00:00.005   27.8     29  27.51  27.72  1.50316e+08  4.25238e+09   \n",
       "\n",
       "                             TURN TRADE_STATUS  \n",
       "2016-11-07 00:00:00.005  0.432518           交易  \n",
       "2016-11-08 00:00:00.005  0.298787           交易  \n",
       "2016-11-09 00:00:00.005   4.13794           交易  \n",
       "2016-11-10 00:00:00.005   2.50337           交易  \n",
       "2016-11-11 00:00:00.005  0.987281           交易  \n",
       "2016-11-14 00:00:00.005  0.905202           交易  \n",
       "2016-11-15 00:00:00.005   1.53056           交易  \n",
       "2016-11-16 00:00:00.005  0.851986           交易  \n",
       "2016-11-17 00:00:00.005  0.613028           交易  \n",
       "2016-11-18 00:00:00.005   1.54836           交易  "
      ]
     },
     "execution_count": 29,
     "metadata": {},
     "output_type": "execute_result"
    }
   ],
   "source": [
    "pdf = pd.DataFrame(price.Data, index=price.Fields, columns=price.Times).T # 创建股价的DataFrame\n",
    "pdf.tail(10) # pdf的数据结构"
   ]
  },
  {
   "cell_type": "code",
   "execution_count": null,
   "metadata": {
    "collapsed": true
   },
   "outputs": [],
   "source": [
    "from pymongo import MongoClient\n",
    "mongodb_address = 'mongodb://localhost:27017/'\n",
    "client = MongoClient(mongodb_address) # 连接\n",
    "db = client['test-database'] #获取Database\n",
    "collection = db['test-collection'] #获取Collection"
   ]
  },
  {
   "cell_type": "code",
   "execution_count": null,
   "metadata": {
    "collapsed": true
   },
   "outputs": [],
   "source": []
  },
  {
   "cell_type": "code",
   "execution_count": 30,
   "metadata": {
    "collapsed": false
   },
   "outputs": [],
   "source": [
    "today = datetime.datetime.today() # 获取当天的日期\n",
    "for code in df['wind_code'][:1]:\n",
    "    _ipo_date = w.wss(code, \"ipo_date\") # 查询ipo日期\n",
    "    ipo_date = _ipo_date.Data[0][0]\n",
    "    price = w.wsd(code, \"open,high,low,close,volume,amt,turn,trade_status\", ipo_date, today)\n",
    "    pdf = pd.DataFrame(price.Data, index=price.Fields, columns=price.Times).T # 创建股价的DataFrame"
   ]
  }
 ],
 "metadata": {
  "kernelspec": {
   "display_name": "Python [Root]",
   "language": "python",
   "name": "Python [Root]"
  },
  "language_info": {
   "codemirror_mode": {
    "name": "ipython",
    "version": 3
   },
   "file_extension": ".py",
   "mimetype": "text/x-python",
   "name": "python",
   "nbconvert_exporter": "python",
   "pygments_lexer": "ipython3",
   "version": "3.5.1"
  }
 },
 "nbformat": 4,
 "nbformat_minor": 0
}
