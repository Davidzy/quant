{
 "cells": [
  {
   "cell_type": "markdown",
   "metadata": {},
   "source": [
    "# Wind量化api for python"
   ]
  },
  {
   "cell_type": "markdown",
   "metadata": {},
   "source": [
    "1. from WindPy import *：装载WindPy包\n",
    "2. w.start：启动WindPy\n",
    "3. w.stop：停止WindPy\n",
    "4. w.isconnected：判断是否已经登录\n",
    "5. w.cancelRequest：取消订阅\n",
    "6. w.wsd：获取历史序列数据\n",
    "7. w.wsi：获取分钟数据\n",
    "8. w.wst：获取日内tick级别数据\n",
    "9. w.wss：获历史截面数据\n",
    "10. w.wsq：获取和订阅实时行情数据\n",
    "11. w.wset：获取板块、指数等成分数据\n",
    "12. w.weqs：获取条件选股结果\n",
    "13. w.wpf：获取资产管理、组合管理数据"
   ]
  },
  {
   "cell_type": "code",
   "execution_count": 9,
   "metadata": {
    "collapsed": false
   },
   "outputs": [],
   "source": [
    "import pandas as pd\n",
    "from datetime import datetime "
   ]
  },
  {
   "cell_type": "code",
   "execution_count": 2,
   "metadata": {
    "collapsed": false
   },
   "outputs": [
    {
     "name": "stdout",
     "output_type": "stream",
     "text": [
      "Welcome to use Wind Quant API for Python (WindPy)!\n",
      "You can use w.menu to help yourself to create commands(WSD,WSS,WST,WSI,WSQ,...)!\n",
      "\n",
      "COPYRIGHT (C) 2016 WIND HONGHUI INFORMATION & TECHKNOLEWDGE CO., LTD. ALL RIGHTS RESERVED.\n",
      "IN NO CIRCUMSTANCE SHALL WIND BE RESPONSIBLE FOR ANY DAMAGES OR LOSSES CAUSED BY USING WIND QUANT API FOR Python.\n"
     ]
    },
    {
     "data": {
      "text/plain": [
       ".ErrorCode=0\n",
       ".Data=[OK!]"
      ]
     },
     "execution_count": 2,
     "metadata": {},
     "output_type": "execute_result"
    }
   ],
   "source": [
    "from WindPy import *\n",
    "w.start() # 启动windpy连接"
   ]
  },
  {
   "cell_type": "code",
   "execution_count": 3,
   "metadata": {
    "collapsed": false
   },
   "outputs": [
    {
     "data": {
      "text/plain": [
       "True"
      ]
     },
     "execution_count": 3,
     "metadata": {},
     "output_type": "execute_result"
    }
   ],
   "source": [
    "w.isconnected() # 检验连接是否成功"
   ]
  },
  {
   "cell_type": "markdown",
   "metadata": {},
   "source": [
    "## 获取全部A股上市公司名称代码"
   ]
  },
  {
   "cell_type": "code",
   "execution_count": 4,
   "metadata": {
    "collapsed": true
   },
   "outputs": [],
   "source": [
    "stocks = w.wset(\"sectorconstituent\",\"date=2016-11-20;sectorid=a001010100000000\")"
   ]
  },
  {
   "cell_type": "code",
   "execution_count": 5,
   "metadata": {
    "collapsed": false
   },
   "outputs": [
    {
     "data": {
      "text/plain": [
       "['date', 'wind_code', 'sec_name']"
      ]
     },
     "execution_count": 5,
     "metadata": {},
     "output_type": "execute_result"
    }
   ],
   "source": [
    "stocks.Fields"
   ]
  },
  {
   "cell_type": "code",
   "execution_count": 6,
   "metadata": {
    "collapsed": false
   },
   "outputs": [
    {
     "data": {
      "text/html": [
       "<div>\n",
       "<table border=\"1\" class=\"dataframe\">\n",
       "  <thead>\n",
       "    <tr style=\"text-align: right;\">\n",
       "      <th></th>\n",
       "      <th>uptodate</th>\n",
       "      <th>wind_code</th>\n",
       "      <th>name</th>\n",
       "    </tr>\n",
       "  </thead>\n",
       "  <tbody>\n",
       "    <tr>\n",
       "      <th>0</th>\n",
       "      <td>2016-11-20 00:00:00.005000</td>\n",
       "      <td>000001.SZ</td>\n",
       "      <td>平安银行</td>\n",
       "    </tr>\n",
       "    <tr>\n",
       "      <th>1</th>\n",
       "      <td>2016-11-20 00:00:00.005000</td>\n",
       "      <td>000002.SZ</td>\n",
       "      <td>万科A</td>\n",
       "    </tr>\n",
       "    <tr>\n",
       "      <th>2</th>\n",
       "      <td>2016-11-20 00:00:00.005000</td>\n",
       "      <td>000004.SZ</td>\n",
       "      <td>国农科技</td>\n",
       "    </tr>\n",
       "    <tr>\n",
       "      <th>3</th>\n",
       "      <td>2016-11-20 00:00:00.005000</td>\n",
       "      <td>000005.SZ</td>\n",
       "      <td>世纪星源</td>\n",
       "    </tr>\n",
       "    <tr>\n",
       "      <th>4</th>\n",
       "      <td>2016-11-20 00:00:00.005000</td>\n",
       "      <td>000006.SZ</td>\n",
       "      <td>深振业A</td>\n",
       "    </tr>\n",
       "  </tbody>\n",
       "</table>\n",
       "</div>"
      ],
      "text/plain": [
       "                     uptodate  wind_code  name\n",
       "0  2016-11-20 00:00:00.005000  000001.SZ  平安银行\n",
       "1  2016-11-20 00:00:00.005000  000002.SZ   万科A\n",
       "2  2016-11-20 00:00:00.005000  000004.SZ  国农科技\n",
       "3  2016-11-20 00:00:00.005000  000005.SZ  世纪星源\n",
       "4  2016-11-20 00:00:00.005000  000006.SZ  深振业A"
      ]
     },
     "execution_count": 6,
     "metadata": {},
     "output_type": "execute_result"
    }
   ],
   "source": [
    "df = pd.DataFrame(stocks.Data, index=['uptodate', 'wind_code', 'name'])\n",
    "df = df.T\n",
    "df.head()"
   ]
  },
  {
   "cell_type": "markdown",
   "metadata": {},
   "source": [
    "## 获取单个股票的历史价格信息，将其写入mongodb"
   ]
  },
  {
   "cell_type": "code",
   "execution_count": 50,
   "metadata": {
    "collapsed": false
   },
   "outputs": [
    {
     "data": {
      "text/plain": [
       ".ErrorCode=0\n",
       ".Codes=[000002.SZ]\n",
       ".Fields=[OPEN,HIGH,LOW,CLOSE,VOLUME,AMT,TURN,TRADE_STATUS]\n",
       ".Times=[19910129,19910130,19910131,19910201,19910204,19910205,19910206,19910207,19910208,19910211,...]\n",
       ".Data=[[14.58,14.51,14.51,None,14.66,14.73,14.8,14.87,14.94,15.09,...],[14.58,14.51,14.51,None,14.66,14.73,14.8,14.87,14.94,15.09,...],[14.58,14.51,14.51,None,14.66,14.73,14.8,14.87,14.94,15.09,...],[14.58,14.51,14.51,14.51,14.66,14.73,14.8,14.87,14.94,15.09,...],[300.0,1700.0,None,None,5600.0,2900.0,2900.0,4800.0,6600.0,3300.0,...],[22000.0,123000.0,None,None,410000.0,213000.0,215000.0,357000.0,493000.0,249000.0,...],[0.0010714285714285715,0.006071428571428571,None,None,0.02,0.010357142857142856,0.010357142857142856,0.017142857142857144,0.023571428571428573,0.011785714285714287,...],[交易,交易,交易,交易,交易,交易,交易,交易,交易,交易,...]]"
      ]
     },
     "execution_count": 50,
     "metadata": {},
     "output_type": "execute_result"
    }
   ],
   "source": [
    "today = datetime.today() # 获取当天的日期\n",
    "code = '000002.SZ'\n",
    "_ipo_date = w.wss(code, \"ipo_date\") # 查询ipo日期\n",
    "ipo_date = _ipo_date.Data[0][0]\n",
    "price = w.wsd(code, \"open,high,low,close,volume,amt,turn,trade_status\", ipo_date, today)\n",
    "price # price的数据结构"
   ]
  },
  {
   "cell_type": "code",
   "execution_count": 53,
   "metadata": {
    "collapsed": false
   },
   "outputs": [
    {
     "data": {
      "text/html": [
       "<div>\n",
       "<table border=\"1\" class=\"dataframe\">\n",
       "  <thead>\n",
       "    <tr style=\"text-align: right;\">\n",
       "      <th></th>\n",
       "      <th>OPEN</th>\n",
       "      <th>HIGH</th>\n",
       "      <th>LOW</th>\n",
       "      <th>CLOSE</th>\n",
       "      <th>VOLUME</th>\n",
       "      <th>AMT</th>\n",
       "      <th>TURN</th>\n",
       "      <th>TRADE_STATUS</th>\n",
       "    </tr>\n",
       "  </thead>\n",
       "  <tbody>\n",
       "    <tr>\n",
       "      <th>1991-01-29 00:00:00.005</th>\n",
       "      <td>14.58</td>\n",
       "      <td>14.58</td>\n",
       "      <td>14.58</td>\n",
       "      <td>14.58</td>\n",
       "      <td>300</td>\n",
       "      <td>22000</td>\n",
       "      <td>0.00107143</td>\n",
       "      <td>交易</td>\n",
       "    </tr>\n",
       "    <tr>\n",
       "      <th>1991-01-30 00:00:00.005</th>\n",
       "      <td>14.51</td>\n",
       "      <td>14.51</td>\n",
       "      <td>14.51</td>\n",
       "      <td>14.51</td>\n",
       "      <td>1700</td>\n",
       "      <td>123000</td>\n",
       "      <td>0.00607143</td>\n",
       "      <td>交易</td>\n",
       "    </tr>\n",
       "    <tr>\n",
       "      <th>1991-01-31 00:00:00.005</th>\n",
       "      <td>14.51</td>\n",
       "      <td>14.51</td>\n",
       "      <td>14.51</td>\n",
       "      <td>14.51</td>\n",
       "      <td>None</td>\n",
       "      <td>None</td>\n",
       "      <td>None</td>\n",
       "      <td>交易</td>\n",
       "    </tr>\n",
       "    <tr>\n",
       "      <th>1991-02-01 00:00:00.005</th>\n",
       "      <td>None</td>\n",
       "      <td>None</td>\n",
       "      <td>None</td>\n",
       "      <td>14.51</td>\n",
       "      <td>None</td>\n",
       "      <td>None</td>\n",
       "      <td>None</td>\n",
       "      <td>交易</td>\n",
       "    </tr>\n",
       "    <tr>\n",
       "      <th>1991-02-04 00:00:00.005</th>\n",
       "      <td>14.66</td>\n",
       "      <td>14.66</td>\n",
       "      <td>14.66</td>\n",
       "      <td>14.66</td>\n",
       "      <td>5600</td>\n",
       "      <td>410000</td>\n",
       "      <td>0.02</td>\n",
       "      <td>交易</td>\n",
       "    </tr>\n",
       "  </tbody>\n",
       "</table>\n",
       "</div>"
      ],
      "text/plain": [
       "                          OPEN   HIGH    LOW  CLOSE VOLUME     AMT  \\\n",
       "1991-01-29 00:00:00.005  14.58  14.58  14.58  14.58    300   22000   \n",
       "1991-01-30 00:00:00.005  14.51  14.51  14.51  14.51   1700  123000   \n",
       "1991-01-31 00:00:00.005  14.51  14.51  14.51  14.51   None    None   \n",
       "1991-02-01 00:00:00.005   None   None   None  14.51   None    None   \n",
       "1991-02-04 00:00:00.005  14.66  14.66  14.66  14.66   5600  410000   \n",
       "\n",
       "                               TURN TRADE_STATUS  \n",
       "1991-01-29 00:00:00.005  0.00107143           交易  \n",
       "1991-01-30 00:00:00.005  0.00607143           交易  \n",
       "1991-01-31 00:00:00.005        None           交易  \n",
       "1991-02-01 00:00:00.005        None           交易  \n",
       "1991-02-04 00:00:00.005        0.02           交易  "
      ]
     },
     "execution_count": 53,
     "metadata": {},
     "output_type": "execute_result"
    }
   ],
   "source": [
    "pdf = pd.DataFrame(price.Data, index=price.Fields, columns=price.Times).T # 创建股价的DataFrame\n",
    "pdf.head() # pdf的数据结构"
   ]
  },
  {
   "cell_type": "code",
   "execution_count": 48,
   "metadata": {
    "collapsed": true
   },
   "outputs": [],
   "source": [
    "# pymongo连接数据库\n",
    "from pymongo import MongoClient\n",
    "mongodb_address = 'mongodb://192.168.11.114:27017/'\n",
    "client = MongoClient(mongodb_address) # 连接\n",
    "db = client['stockprices'] #获取Database\n",
    "# collection = db['SZ000002'] #获取Collection"
   ]
  },
  {
   "cell_type": "code",
   "execution_count": 29,
   "metadata": {
    "collapsed": false
   },
   "outputs": [],
   "source": [
    "pdf['DATE'] = pdf.index\n",
    "r = pdf.T.to_dict()\n",
    "data = [r[i] for i in r]\n",
    "collection.insert_many(data)"
   ]
  },
  {
   "cell_type": "code",
   "execution_count": 54,
   "metadata": {
    "collapsed": false
   },
   "outputs": [
    {
     "data": {
      "text/plain": [
       "{'AMT': 0.0,\n",
       " 'CLOSE': 14.41,\n",
       " 'DATE': datetime.datetime(2001, 6, 25, 0, 0, 0, 5000),\n",
       " 'HIGH': 14.41,\n",
       " 'LOW': 14.41,\n",
       " 'OPEN': 14.41,\n",
       " 'TRADE_STATUS': '停牌一天',\n",
       " 'TURN': 0.0,\n",
       " 'VOLUME': 0.0,\n",
       " '_id': ObjectId('5831cd2f4255f3bf40da6cc3')}"
      ]
     },
     "execution_count": 54,
     "metadata": {},
     "output_type": "execute_result"
    }
   ],
   "source": [
    "collection.find_one() #测试数据是否插入数据库"
   ]
  },
  {
   "cell_type": "code",
   "execution_count": 55,
   "metadata": {
    "collapsed": true
   },
   "outputs": [],
   "source": [
    "collection.drop() #删除测试数据"
   ]
  },
  {
   "cell_type": "code",
   "execution_count": 42,
   "metadata": {
    "collapsed": true
   },
   "outputs": [],
   "source": [
    "def rename(code):\n",
    "    l = code.split('.')\n",
    "    l.reverse()\n",
    "    s = ''.join(l)\n",
    "    return s"
   ]
  },
  {
   "cell_type": "code",
   "execution_count": null,
   "metadata": {
    "collapsed": false
   },
   "outputs": [
    {
     "name": "stdout",
     "output_type": "stream",
     "text": [
      "000001.SZ collections is inserted\n",
      "000002.SZ collections is inserted\n",
      "000004.SZ collections is inserted\n",
      "000005.SZ collections is inserted\n",
      "000006.SZ collections is inserted\n",
      "000007.SZ collections is inserted\n",
      "000008.SZ collections is inserted\n",
      "000009.SZ collections is inserted\n",
      "000010.SZ collections is inserted\n",
      "000011.SZ collections is inserted\n",
      "000012.SZ collections is inserted\n",
      "000014.SZ collections is inserted\n",
      "000016.SZ collections is inserted\n",
      "000017.SZ collections is inserted\n",
      "000018.SZ collections is inserted\n",
      "000019.SZ collections is inserted\n",
      "000020.SZ collections is inserted\n",
      "000021.SZ collections is inserted\n",
      "000022.SZ collections is inserted\n",
      "000023.SZ collections is inserted\n",
      "000025.SZ collections is inserted\n",
      "000026.SZ collections is inserted\n",
      "000027.SZ collections is inserted\n",
      "000028.SZ collections is inserted\n",
      "000029.SZ collections is inserted\n",
      "000030.SZ collections is inserted\n",
      "000031.SZ collections is inserted\n",
      "000032.SZ collections is inserted\n",
      "000033.SZ collections is inserted\n",
      "000034.SZ collections is inserted\n",
      "000035.SZ collections is inserted\n",
      "000036.SZ collections is inserted\n",
      "000037.SZ collections is inserted\n",
      "000038.SZ collections is inserted\n",
      "000039.SZ collections is inserted\n",
      "000040.SZ collections is inserted\n",
      "000042.SZ collections is inserted\n",
      "000043.SZ collections is inserted\n",
      "000045.SZ collections is inserted\n",
      "000046.SZ collections is inserted\n",
      "000048.SZ collections is inserted\n",
      "000049.SZ collections is inserted\n",
      "000050.SZ collections is inserted\n",
      "000055.SZ collections is inserted\n",
      "000056.SZ collections is inserted\n",
      "000058.SZ collections is inserted\n",
      "000059.SZ collections is inserted\n",
      "000060.SZ collections is inserted\n",
      "000061.SZ collections is inserted\n",
      "000062.SZ collections is inserted\n",
      "000063.SZ collections is inserted\n",
      "000065.SZ collections is inserted\n",
      "000066.SZ collections is inserted\n",
      "000068.SZ collections is inserted\n",
      "000069.SZ collections is inserted\n",
      "000070.SZ collections is inserted\n",
      "000078.SZ collections is inserted\n",
      "000088.SZ collections is inserted\n",
      "000089.SZ collections is inserted\n",
      "000090.SZ collections is inserted\n",
      "000096.SZ collections is inserted\n",
      "000099.SZ collections is inserted\n",
      "000100.SZ collections is inserted\n",
      "000150.SZ collections is inserted\n",
      "000151.SZ collections is inserted\n",
      "000153.SZ collections is inserted\n",
      "000155.SZ collections is inserted\n",
      "000156.SZ collections is inserted\n",
      "000157.SZ collections is inserted\n",
      "000158.SZ collections is inserted\n",
      "000159.SZ collections is inserted\n",
      "000166.SZ collections is inserted\n",
      "000301.SZ collections is inserted\n",
      "000333.SZ collections is inserted\n",
      "000338.SZ collections is inserted\n",
      "000400.SZ collections is inserted\n",
      "000401.SZ collections is inserted\n",
      "000402.SZ collections is inserted\n",
      "000403.SZ collections is inserted\n",
      "000404.SZ collections is inserted\n",
      "000407.SZ collections is inserted\n"
     ]
    }
   ],
   "source": [
    "today = datetime.today() #获取当天的日期\n",
    "for code in df['wind_code']:\n",
    "    _ipo_date = w.wss(code, \"ipo_date\") #查询ipo日期\n",
    "    ipo_date = _ipo_date.Data[0][0]\n",
    "    price = w.wsd(code, \"open,high,low,close,volume,amt,turn,trade_status\", ipo_date, today)\n",
    "    pdf = pd.DataFrame(price.Data, index=price.Fields, columns=price.Times).T # 创建股价的DataFrame\n",
    "    collection_name = rename(code)\n",
    "    collection = db[collection_name] #获取Collection\n",
    "    pdf['DATE'] = pdf.index #将时间序列插入数据\n",
    "    r = pdf.T.to_dict() #转换为dict对象\n",
    "    data = [r[i] for i in r] #生成插入数据的数组\n",
    "    collection.insert_many(data)\n",
    "    print('{} collection is inserted'.format(collection_name))\n",
    "    "
   ]
  }
 ],
 "metadata": {
  "anaconda-cloud": {},
  "kernelspec": {
   "display_name": "Python [conda root]",
   "language": "python",
   "name": "conda-root-py"
  },
  "language_info": {
   "codemirror_mode": {
    "name": "ipython",
    "version": 3
   },
   "file_extension": ".py",
   "mimetype": "text/x-python",
   "name": "python",
   "nbconvert_exporter": "python",
   "pygments_lexer": "ipython3",
   "version": "3.5.2"
  }
 },
 "nbformat": 4,
 "nbformat_minor": 0
}
